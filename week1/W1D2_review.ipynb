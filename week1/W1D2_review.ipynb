{
 "cells": [
  {
   "cell_type": "code",
   "execution_count": 6,
   "metadata": {
    "collapsed": false
   },
   "outputs": [
    {
     "name": "stdout",
     "output_type": "stream",
     "text": [
      "enter a number: adgf\n",
      "enter a string: dfh\n",
      "enter a string: fdh\n",
      "enter a string: \n",
      "you entered 3 words: adgfdfhfdh\n"
     ]
    }
   ],
   "source": [
    "user_input = input(\"enter a number: \")\n",
    "if user_input == \"\":\n",
    "    print(\"you're boring, you entered nothing.\")\n",
    "    exit()\n",
    "    \n",
    "numbers_flag = False\n",
    "count = 1\n",
    "\n",
    "try:\n",
    "    total = float(user_input)\n",
    "    numbers_flag = True\n",
    "except:\n",
    "    total = user_input\n",
    "\n",
    "\n",
    "while numbers_flag:\n",
    "    user_input = input(\"enter a number: \")\n",
    "    if user_input == \"\":\n",
    "        break\n",
    "    try:\n",
    "        total += float(user_input)\n",
    "        count += 1\n",
    "    except ValueError:\n",
    "        print(\"that was not a number...  please try again\")\n",
    "\n",
    "while not numbers_flag:\n",
    "    user_input = input(\"enter a string: \")\n",
    "    total += user_input\n",
    "\n",
    "    if user_input == \"\":\n",
    "        break\n",
    "    count += 1\n",
    "        \n",
    "if numbers_flag:\n",
    "    print(\"you entered {} numbers, totaling {} with average {}\".format(count, total, total/count))\n",
    "else:\n",
    "    print(\"you entered {} words: {}\".format(count, total))"
   ]
  },
  {
   "cell_type": "code",
   "execution_count": null,
   "metadata": {
    "collapsed": true
   },
   "outputs": [],
   "source": []
  }
 ],
 "metadata": {
  "kernelspec": {
   "display_name": "Python 3",
   "language": "python",
   "name": "python3"
  },
  "language_info": {
   "codemirror_mode": {
    "name": "ipython",
    "version": 3
   },
   "file_extension": ".py",
   "mimetype": "text/x-python",
   "name": "python",
   "nbconvert_exporter": "python",
   "pygments_lexer": "ipython3",
   "version": "3.5.2"
  }
 },
 "nbformat": 4,
 "nbformat_minor": 2
}
