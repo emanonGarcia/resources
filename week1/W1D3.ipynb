{
 "cells": [
  {
   "cell_type": "code",
   "execution_count": null,
   "metadata": {
    "collapsed": true
   },
   "outputs": [],
   "source": [
    "#Types\n",
    "#str, int, float, bool, list, tuple, NoneType, function, dict, Error/Exception, module, class,\n",
    "#Honorable Mention: literal, variable\n",
    "#Flow Control: boss statements: while/else, for/else, \n",
    "#    if/elif/else, try/except/else/finally, break, continue, def\n",
    "\n",
    "#operators: +,-,*,/,//,%,**,>,<,>=,<=,==,=,!=,and,or,not,is,in\n",
    "#Objects:\n",
    "#    Objects are things.\n",
    "#         state or attributes properties or things the object knows.\n",
    "#         behavior (methods...  i.e. things you can do object.action() e.g. my_str.lower() )\n",
    "#         identity (type + memory location)"
   ]
  },
  {
   "cell_type": "code",
   "execution_count": 5,
   "metadata": {
    "collapsed": false
   },
   "outputs": [],
   "source": [
    "def count_down(value):\n",
    "    if value <= 0:\n",
    "        return\n",
    "    \n",
    "    print(value)\n",
    "    \n",
    "    count_down(value - 1)\n",
    "\n",
    "count_down(-1)"
   ]
  },
  {
   "cell_type": "code",
   "execution_count": 6,
   "metadata": {
    "collapsed": false
   },
   "outputs": [
    {
     "name": "stdout",
     "output_type": "stream",
     "text": [
      "1\n",
      "2\n",
      "3\n",
      "4\n",
      "5\n",
      "6\n",
      "7\n",
      "8\n",
      "9\n",
      "10\n"
     ]
    }
   ],
   "source": [
    "def count_up(value):\n",
    "    if value <= 0:\n",
    "        return\n",
    "    count_up(value - 1)\n",
    "    print(value)\n",
    "    \n",
    "count_up(10)"
   ]
  },
  {
   "cell_type": "code",
   "execution_count": 9,
   "metadata": {
    "collapsed": false
   },
   "outputs": [
    {
     "name": "stdout",
     "output_type": "stream",
     "text": [
      "0\n",
      "1\n",
      "2\n",
      "3\n",
      "4\n",
      "5\n",
      "6\n",
      "7\n",
      "8\n",
      "9\n",
      "10\n"
     ]
    }
   ],
   "source": [
    "def count_up(value, end):\n",
    "    if value <= end:\n",
    "        print(value)\n",
    "        count_up(value+1, end)\n",
    "    return\n",
    "\n",
    "count_up(0, 10)"
   ]
  },
  {
   "cell_type": "code",
   "execution_count": 12,
   "metadata": {
    "collapsed": true
   },
   "outputs": [],
   "source": [
    "def count_down(value):\n",
    "    #base:\n",
    "    if value < 0:\n",
    "        return\n",
    "    count_down(value-1)\n",
    "    print(value)"
   ]
  },
  {
   "cell_type": "code",
   "execution_count": 13,
   "metadata": {
    "collapsed": false
   },
   "outputs": [
    {
     "name": "stdout",
     "output_type": "stream",
     "text": [
      "0\n",
      "1\n",
      "2\n",
      "3\n",
      "4\n",
      "5\n",
      "6\n",
      "7\n",
      "8\n",
      "9\n",
      "10\n"
     ]
    }
   ],
   "source": [
    "count_down(10)"
   ]
  },
  {
   "cell_type": "code",
   "execution_count": 14,
   "metadata": {
    "collapsed": true
   },
   "outputs": [],
   "source": [
    "def factorial(n):\n",
    "    #base\n",
    "    if n <= 1:\n",
    "        return 1\n",
    "    #do some work\n",
    "    #recurse\n",
    "    return n * factorial(n - 1)\n",
    "\n"
   ]
  },
  {
   "cell_type": "code",
   "execution_count": 27,
   "metadata": {
    "collapsed": false
   },
   "outputs": [
    {
     "data": {
      "text/plain": [
       "67526802209645841583879061361800814224269427869589384312198268703685091643180416969132446952698303794226010370578672908593198347699886928591906501031587651846976759681112609524787093848004428636186893395272784450630354080243217646658024696659065951793757223520229235577548653833681102170973893746054649126415909143150172860721156685810655759230011450132992176454983227538696340112610447029002337004887877266387704586077293585433151612518800147764461182680822867092786694982831838641800997499819339206579415325649748486265233918911087114592440896594062675914294925816719862178374679272092637524786939036290035924271782253738059886933923447877769583003016705363339031413069155837518524761078342052635475632113169618774549275701480106933362990003732589370593557325299434734459295866728988740794174654391479926000848846686708729736713207285203712732201272410830836913052635365082888725171636081587151603468291106754640398232146673627370895934090777828827549554232436190464827998683927179246029919443251026464452337939599198528297828591122689960620361238248313158071643395848405047261412680039877733761849874447323867911712630023171745968278465780558568067035013885275080292137360491875164947724464221693533755035300065350065137490832039523382963747026185653050331832380991844842560750923543775188582096487476950254418365198999674684417286265442786651594404781622946901879166382930714196908227460133027605817864877377712193142137625430353718448269390732615776645283198828602917680224041088993892610506802195917247838900106910698057030379190571057605849323113308634452008179881165616449767648354161225066967961297609698742737923389391615207441152319392845687673311899247085327703421862972871644495409572259985563215471482083325653231777113271326579970310755604973969708949477374254974480294652427022436705380184064008853457214518515270985563195412993145274057688634448812449445800617631162768243125606424844709372022149908463572254912654907763445758543980999149122998104378965626781898655221443263601405152073199706585080288735040205417371277253096243200000000000000000000000000000000000000000000000000000000000000000000000000000000000000000000000000000000000000000000000000000000000000000000000000000000000000000000000000000000000000000000000000000000000000000000000000000000"
      ]
     },
     "execution_count": 27,
     "metadata": {},
     "output_type": "execute_result"
    }
   ],
   "source": [
    "factorial(900)\n"
   ]
  },
  {
   "cell_type": "code",
   "execution_count": 29,
   "metadata": {
    "collapsed": true
   },
   "outputs": [],
   "source": [
    "def count(n):\n",
    "    #base case\n",
    "    if n < 0:\n",
    "        return\n",
    "    \n",
    "    # this is the work before recursing\n",
    "    print(\"going down the rabbit hole\", n) \n",
    "    \n",
    "    count(n-1)  #this is the recursive step.\n",
    "    \n",
    "    #this is the work after recursing\n",
    "    print(\"returning out of the rabbit hole\", n)\n",
    "    "
   ]
  },
  {
   "cell_type": "code",
   "execution_count": 30,
   "metadata": {
    "collapsed": false
   },
   "outputs": [
    {
     "name": "stdout",
     "output_type": "stream",
     "text": [
      "going down the rabbit hole 10\n",
      "going down the rabbit hole 9\n",
      "going down the rabbit hole 8\n",
      "going down the rabbit hole 7\n",
      "going down the rabbit hole 6\n",
      "going down the rabbit hole 5\n",
      "going down the rabbit hole 4\n",
      "going down the rabbit hole 3\n",
      "going down the rabbit hole 2\n",
      "going down the rabbit hole 1\n",
      "going down the rabbit hole 0\n",
      "returning out of the rabbit hole 0\n",
      "returning out of the rabbit hole 1\n",
      "returning out of the rabbit hole 2\n",
      "returning out of the rabbit hole 3\n",
      "returning out of the rabbit hole 4\n",
      "returning out of the rabbit hole 5\n",
      "returning out of the rabbit hole 6\n",
      "returning out of the rabbit hole 7\n",
      "returning out of the rabbit hole 8\n",
      "returning out of the rabbit hole 9\n",
      "returning out of the rabbit hole 10\n"
     ]
    }
   ],
   "source": [
    "count(10)"
   ]
  },
  {
   "cell_type": "code",
   "execution_count": 58,
   "metadata": {
    "collapsed": false
   },
   "outputs": [
    {
     "name": "stdout",
     "output_type": "stream",
     "text": [
      "832040\n",
      "2692537\n"
     ]
    }
   ],
   "source": [
    "#nth fib number = n-1 fib number + n-2 fib number\n",
    "count = 0\n",
    "def fib(n):\n",
    "    global count\n",
    "    count += 1\n",
    "    #base \n",
    "    if n < 2:\n",
    "        return n\n",
    "    \n",
    "    current = fib(n-1) + fib(n-2)\n",
    "    \n",
    "    return current\n",
    "    \n",
    "# print(fib(0))\n",
    "# print(fib(1))\n",
    "# print(fib(2))\n",
    "# print(fib(3))\n",
    "# print(fib(4))\n",
    "# print(fib(5))\n",
    "# print(fib(6))\n",
    "# print(fib(7))\n",
    "print(fib(30))\n",
    "print(count)"
   ]
  },
  {
   "cell_type": "code",
   "execution_count": 59,
   "metadata": {
    "collapsed": true
   },
   "outputs": [],
   "source": [
    "def recursive_max(values):\n",
    "    if len(values) == 0:\n",
    "        return None\n",
    "    elif len(values) == 1:\n",
    "        return values[0]\n",
    "\n",
    "    possible_max_1 = values[0]\n",
    "    possible_max_2 = recursive_max(values[1:])\n",
    "\n",
    "    if possible_max_1 > possible_max_2:\n",
    "        return possible_max_1\n",
    "    else:\n",
    "        return possible_max_2"
   ]
  },
  {
   "cell_type": "code",
   "execution_count": 60,
   "metadata": {
    "collapsed": true
   },
   "outputs": [],
   "source": [
    "my_list = [3,24601,4,45,435,547,43,56,8675309, 2,5,4526,3,-452,0]"
   ]
  },
  {
   "cell_type": "code",
   "execution_count": 61,
   "metadata": {
    "collapsed": false
   },
   "outputs": [
    {
     "data": {
      "text/plain": [
       "8675309"
      ]
     },
     "execution_count": 61,
     "metadata": {},
     "output_type": "execute_result"
    }
   ],
   "source": [
    "recursive_max(my_list)"
   ]
  },
  {
   "cell_type": "code",
   "execution_count": 65,
   "metadata": {
    "collapsed": false
   },
   "outputs": [],
   "source": [
    "def print_list(l):\n",
    "    if len(l) == 0:\n",
    "        return\n",
    "    \n",
    "    first = l[0]\n",
    "    rest = l[1:]\n",
    "    \n",
    "    #recurse on rest\n",
    "    print_list(rest)\n",
    "    \n",
    "    #do work on first\n",
    "    print(first)\n",
    "    "
   ]
  },
  {
   "cell_type": "code",
   "execution_count": 66,
   "metadata": {
    "collapsed": false
   },
   "outputs": [
    {
     "name": "stdout",
     "output_type": "stream",
     "text": [
      "0\n",
      "-452\n",
      "3\n",
      "4526\n",
      "5\n",
      "2\n",
      "8675309\n",
      "56\n",
      "43\n",
      "547\n",
      "435\n",
      "45\n",
      "4\n",
      "24601\n",
      "3\n"
     ]
    }
   ],
   "source": [
    "print_list(my_list)"
   ]
  },
  {
   "cell_type": "code",
   "execution_count": 67,
   "metadata": {
    "collapsed": true
   },
   "outputs": [],
   "source": [
    "def triangle(size):\n",
    "    pass"
   ]
  },
  {
   "cell_type": "code",
   "execution_count": 68,
   "metadata": {
    "collapsed": true
   },
   "outputs": [],
   "source": [
    "def rev_triangle(size):\n",
    "    pass"
   ]
  },
  {
   "cell_type": "code",
   "execution_count": 71,
   "metadata": {
    "collapsed": true
   },
   "outputs": [],
   "source": [
    "def print_lol(lol):\n",
    "    #base case: list is empty.\n",
    "    if not lol:\n",
    "        return\n",
    "    \n",
    "    #break into first element (which might be a list)\n",
    "    #and the rest of then list.\n",
    "    first = lol[0]\n",
    "    rest = lol[1:]\n",
    "    \n",
    "    #do work...\n",
    "    if type(first) == list:\n",
    "        #if the first element is a list, print it as a list.\n",
    "        print_lol(first)\n",
    "    else:\n",
    "        #otherwise, just print the first element\n",
    "        print(first)\n",
    "        \n",
    "    #now print the rest of the list.\n",
    "    print_lol(rest)\n",
    "\n",
    "    \n",
    "    \n",
    "    \n",
    "    \n",
    "    \n",
    "    \n",
    "    \n",
    "\n"
   ]
  },
  {
   "cell_type": "code",
   "execution_count": 72,
   "metadata": {
    "collapsed": false
   },
   "outputs": [
    {
     "name": "stdout",
     "output_type": "stream",
     "text": [
      "hi mom\n",
      "breakfast\n",
      "lunch\n",
      "dinner\n",
      "students\n",
      "tables\n",
      "josh\n",
      "dana\n",
      "nadia\n",
      "raj\n",
      "ryan\n",
      "luis\n",
      "graham\n",
      "will\n",
      "eric\n"
     ]
    }
   ],
   "source": [
    "my_lolz = [\"hi mom\", [\"breakfast\", \"lunch\", \"dinner\"], [\"students\", [\"tables\", [\"josh\", \"dana\"], [\"nadia\", \"raj\"], [\"ryan\", \"luis\"], [\"graham\", \"will\"], [\"eric\"]]]]\n",
    "print_lol(my_lolz)"
   ]
  },
  {
   "cell_type": "code",
   "execution_count": null,
   "metadata": {
    "collapsed": true
   },
   "outputs": [],
   "source": []
  }
 ],
 "metadata": {
  "kernelspec": {
   "display_name": "Python 3",
   "language": "python",
   "name": "python3"
  },
  "language_info": {
   "codemirror_mode": {
    "name": "ipython",
    "version": 3
   },
   "file_extension": ".py",
   "mimetype": "text/x-python",
   "name": "python",
   "nbconvert_exporter": "python",
   "pygments_lexer": "ipython3",
   "version": "3.5.2"
  }
 },
 "nbformat": 4,
 "nbformat_minor": 2
}
