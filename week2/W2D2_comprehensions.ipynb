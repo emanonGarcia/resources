{
 "cells": [
  {
   "cell_type": "code",
   "execution_count": 43,
   "metadata": {
    "collapsed": true
   },
   "outputs": [],
   "source": [
    "def is_prime(n):\n",
    "    i = 2\n",
    "    if n <= 1: return False\n",
    "    while i*i <= n:\n",
    "        if n % i == 0:\n",
    "            return False\n",
    "        i += 1\n",
    "    return True"
   ]
  },
  {
   "cell_type": "code",
   "execution_count": 44,
   "metadata": {
    "collapsed": true
   },
   "outputs": [],
   "source": [
    "my_list = [\"nekot\", \"m&m\", \"coffee\", \"sandwich\", \"clementines\", \"evian\"]"
   ]
  },
  {
   "cell_type": "code",
   "execution_count": 45,
   "metadata": {
    "collapsed": false
   },
   "outputs": [
    {
     "data": {
      "text/plain": [
       "[False, False, True, False, False, False]"
      ]
     },
     "execution_count": 45,
     "metadata": {},
     "output_type": "execute_result"
    }
   ],
   "source": [
    "[item == \"coffee\" for item in my_list]"
   ]
  },
  {
   "cell_type": "code",
   "execution_count": 46,
   "metadata": {
    "collapsed": false
   },
   "outputs": [
    {
     "data": {
      "text/plain": [
       "['nekot', 'm&m', 'coffee', 'sandwich', 'clementines', 'evian']"
      ]
     },
     "execution_count": 46,
     "metadata": {},
     "output_type": "execute_result"
    }
   ],
   "source": [
    "my_list"
   ]
  },
  {
   "cell_type": "code",
   "execution_count": 47,
   "metadata": {
    "collapsed": true
   },
   "outputs": [],
   "source": [
    "my_num_list = [1,2,43,6,4,3,4,765,4,2,4,54,11,8675309, 24601]"
   ]
  },
  {
   "cell_type": "code",
   "execution_count": 48,
   "metadata": {
    "collapsed": false
   },
   "outputs": [
    {
     "data": {
      "text/plain": [
       "[False,\n",
       " True,\n",
       " True,\n",
       " False,\n",
       " False,\n",
       " True,\n",
       " False,\n",
       " False,\n",
       " False,\n",
       " True,\n",
       " False,\n",
       " False,\n",
       " True,\n",
       " True,\n",
       " False]"
      ]
     },
     "execution_count": 48,
     "metadata": {},
     "output_type": "execute_result"
    }
   ],
   "source": [
    "[is_prime(num) for num in my_num_list]"
   ]
  },
  {
   "cell_type": "code",
   "execution_count": 49,
   "metadata": {
    "collapsed": false
   },
   "outputs": [
    {
     "data": {
      "text/plain": [
       "[2, 43, 3, 2, 11, 8675309]"
      ]
     },
     "execution_count": 49,
     "metadata": {},
     "output_type": "execute_result"
    }
   ],
   "source": [
    "[num for num in my_num_list if is_prime(num)]"
   ]
  },
  {
   "cell_type": "code",
   "execution_count": 50,
   "metadata": {
    "collapsed": false
   },
   "outputs": [
    {
     "data": {
      "text/plain": [
       "[1, 6, 4, 4, 765, 4, 4, 54, 24601]"
      ]
     },
     "execution_count": 50,
     "metadata": {},
     "output_type": "execute_result"
    }
   ],
   "source": [
    "[num for num in my_num_list if not is_prime(num)]"
   ]
  },
  {
   "cell_type": "code",
   "execution_count": 51,
   "metadata": {
    "collapsed": true
   },
   "outputs": [],
   "source": [
    "are_prime = [is_prime(num) for num in my_num_list]"
   ]
  },
  {
   "cell_type": "code",
   "execution_count": 52,
   "metadata": {
    "collapsed": true
   },
   "outputs": [],
   "source": [
    "d = {key: value for key, value in zip(my_num_list, are_prime)}\n",
    "d2 = {num: num**2 for num in range(100)}"
   ]
  },
  {
   "cell_type": "code",
   "execution_count": 53,
   "metadata": {
    "collapsed": false
   },
   "outputs": [
    {
     "data": {
      "text/plain": [
       "{2: 4,\n",
       " 3: 9,\n",
       " 5: 25,\n",
       " 7: 49,\n",
       " 11: 121,\n",
       " 13: 169,\n",
       " 17: 289,\n",
       " 19: 361,\n",
       " 23: 529,\n",
       " 29: 841,\n",
       " 31: 961,\n",
       " 37: 1369,\n",
       " 41: 1681,\n",
       " 43: 1849,\n",
       " 47: 2209,\n",
       " 53: 2809,\n",
       " 59: 3481,\n",
       " 61: 3721,\n",
       " 67: 4489,\n",
       " 71: 5041,\n",
       " 73: 5329,\n",
       " 79: 6241,\n",
       " 83: 6889,\n",
       " 89: 7921,\n",
       " 97: 9409}"
      ]
     },
     "execution_count": 53,
     "metadata": {},
     "output_type": "execute_result"
    }
   ],
   "source": [
    "{key:value for key, value in d2.items() if is_prime(key)}"
   ]
  },
  {
   "cell_type": "code",
   "execution_count": 57,
   "metadata": {
    "collapsed": false
   },
   "outputs": [],
   "source": [
    "s1 = {1,2,3,4,5,6}\n",
    "s2 = {2,4,6,8,10}"
   ]
  },
  {
   "cell_type": "code",
   "execution_count": 62,
   "metadata": {
    "collapsed": false
   },
   "outputs": [
    {
     "data": {
      "text/plain": [
       "{1, 3, 5, 8, 10}"
      ]
     },
     "execution_count": 62,
     "metadata": {},
     "output_type": "execute_result"
    }
   ],
   "source": [
    "s1 ^ s2"
   ]
  },
  {
   "cell_type": "code",
   "execution_count": 64,
   "metadata": {
    "collapsed": false
   },
   "outputs": [
    {
     "data": {
      "text/plain": [
       "True"
      ]
     },
     "execution_count": 64,
     "metadata": {},
     "output_type": "execute_result"
    }
   ],
   "source": [
    "s1.isdisjoint({\"a\", \"b\"})"
   ]
  },
  {
   "cell_type": "code",
   "execution_count": 84,
   "metadata": {
    "collapsed": false
   },
   "outputs": [
    {
     "name": "stdout",
     "output_type": "stream",
     "text": [
      "hi mom BLAH anotherTALK TO THE HAND"
     ]
    }
   ],
   "source": [
    "print(\"hi mom\", \"another\", end=\"TALK TO THE HAND\", sep=\" BLAH \")"
   ]
  },
  {
   "cell_type": "code",
   "execution_count": 85,
   "metadata": {
    "collapsed": false
   },
   "outputs": [],
   "source": [
    "def a_funk(param1, param2):\n",
    "    print(\"p1\", param1)\n",
    "    print(\"p2\", param2)"
   ]
  },
  {
   "cell_type": "code",
   "execution_count": 86,
   "metadata": {
    "collapsed": false
   },
   "outputs": [
    {
     "name": "stdout",
     "output_type": "stream",
     "text": [
      "p1 4\n",
      "p2 5\n"
     ]
    }
   ],
   "source": [
    "a_funk(4,5)"
   ]
  },
  {
   "cell_type": "code",
   "execution_count": 91,
   "metadata": {
    "collapsed": false
   },
   "outputs": [],
   "source": [
    "def sing_happy_birthday(name, age):\n",
    "    print(\"Happy Birthday to you {}, happy birthday you're {} years old\".format(name, age))\n"
   ]
  },
  {
   "cell_type": "code",
   "execution_count": 92,
   "metadata": {
    "collapsed": false
   },
   "outputs": [
    {
     "name": "stdout",
     "output_type": "stream",
     "text": [
      "Happy Birthday to you Bryce, happy birthday you're 29 years old\n"
     ]
    }
   ],
   "source": [
    "sing_happy_birthday(\"Bryce\", 29)"
   ]
  },
  {
   "cell_type": "code",
   "execution_count": 93,
   "metadata": {
    "collapsed": false
   },
   "outputs": [
    {
     "name": "stdout",
     "output_type": "stream",
     "text": [
      "Happy Birthday to you 29, happy birthday you're Bryce years old\n"
     ]
    }
   ],
   "source": [
    "sing_happy_birthday(29, \"Bryce\")"
   ]
  },
  {
   "cell_type": "code",
   "execution_count": 94,
   "metadata": {
    "collapsed": true
   },
   "outputs": [],
   "source": [
    "def sing_happy_birthday(name, age=18):\n",
    "    print(\"Happy Birthday to you {}, happy birthday you're {} years old\".format(name, age))\n"
   ]
  },
  {
   "cell_type": "code",
   "execution_count": 95,
   "metadata": {
    "collapsed": false
   },
   "outputs": [
    {
     "name": "stdout",
     "output_type": "stream",
     "text": [
      "Happy Birthday to you Bryce, happy birthday you're 29 years old\n"
     ]
    }
   ],
   "source": [
    "sing_happy_birthday(\"Bryce\", age=29)"
   ]
  },
  {
   "cell_type": "code",
   "execution_count": 96,
   "metadata": {
    "collapsed": false
   },
   "outputs": [
    {
     "name": "stdout",
     "output_type": "stream",
     "text": [
      "Happy Birthday to you Bryce, happy birthday you're 18 years old\n"
     ]
    }
   ],
   "source": [
    "sing_happy_birthday(\"Bryce\")"
   ]
  },
  {
   "cell_type": "code",
   "execution_count": 112,
   "metadata": {
    "collapsed": true
   },
   "outputs": [],
   "source": [
    "def splat_funk(*args):\n",
    "    print(args, type(args))"
   ]
  },
  {
   "cell_type": "code",
   "execution_count": 113,
   "metadata": {
    "collapsed": false
   },
   "outputs": [
    {
     "name": "stdout",
     "output_type": "stream",
     "text": [
      "() <class 'tuple'>\n"
     ]
    }
   ],
   "source": [
    "splat_funk()"
   ]
  },
  {
   "cell_type": "code",
   "execution_count": 118,
   "metadata": {
    "collapsed": false
   },
   "outputs": [
    {
     "name": "stdout",
     "output_type": "stream",
     "text": [
      "1. pina coladas\n",
      "2. gunther\n",
      "3. apple\n",
      "4. orange\n",
      "5. coffee\n",
      "6. bacon\n"
     ]
    }
   ],
   "source": [
    "def print_args(*args):\n",
    "    for count, thing in enumerate(args):\n",
    "        print('{}. {}'.format(count + 1, thing))\n",
    "\n",
    "print_args('pina coladas', 'gunther', 'apple', 'orange', 'coffee', 'bacon')\n"
   ]
  },
  {
   "cell_type": "code",
   "execution_count": 119,
   "metadata": {
    "collapsed": true
   },
   "outputs": [],
   "source": [
    "def key_word_args(**kwargs):\n",
    "    print(kwargs, type(kwargs))"
   ]
  },
  {
   "cell_type": "code",
   "execution_count": 121,
   "metadata": {
    "collapsed": false
   },
   "outputs": [
    {
     "name": "stdout",
     "output_type": "stream",
     "text": [
      "{'feed': 'eat lunch', 'greet': 'hi mom', 'drink': 'beer'} <class 'dict'>\n"
     ]
    }
   ],
   "source": [
    "key_word_args(greet=\"hi mom\", feed=\"eat lunch\", drink=\"beer\")"
   ]
  },
  {
   "cell_type": "code",
   "execution_count": 127,
   "metadata": {
    "collapsed": true
   },
   "outputs": [],
   "source": [
    "def annoying_function(breakfast, lunch, dinner):\n",
    "    print(breakfast)\n",
    "    print(lunch)\n",
    "    print(dinner)"
   ]
  },
  {
   "cell_type": "code",
   "execution_count": 132,
   "metadata": {
    "collapsed": true
   },
   "outputs": [],
   "source": [
    "meals = {\"breakfast\":\"baconB\", \"lunch\":\"baconL\", \"dinner\":\"baconD\", \"elevensies\":\"hobbits\"}"
   ]
  },
  {
   "cell_type": "code",
   "execution_count": 135,
   "metadata": {
    "collapsed": false
   },
   "outputs": [
    {
     "name": "stdout",
     "output_type": "stream",
     "text": [
      "baconB\n",
      "baconL\n",
      "baconD\n",
      "hobbits\n",
      "scones\n"
     ]
    }
   ],
   "source": [
    "def annoying_function2(**kwargs):\n",
    "    print(kwargs[\"breakfast\"])\n",
    "    print(kwargs[\"lunch\"])\n",
    "    print(kwargs[\"dinner\"])\n",
    "    if \"elevensies\" in kwargs:\n",
    "        print(kwargs[\"elevensies\"])\n",
    "    print(kwargs.get(\"tea\"))\n",
    "\n",
    "annoying_function2(**meals, tea=\"scones\")"
   ]
  },
  {
   "cell_type": "code",
   "execution_count": 140,
   "metadata": {
    "collapsed": true
   },
   "outputs": [],
   "source": [
    "def fixed_args(one, two):\n",
    "    print(1, one)\n",
    "    print(2, two)\n",
    "    "
   ]
  },
  {
   "cell_type": "code",
   "execution_count": 141,
   "metadata": {
    "collapsed": false
   },
   "outputs": [
    {
     "name": "stdout",
     "output_type": "stream",
     "text": [
      "1 blah\n",
      "2 di\n"
     ]
    }
   ],
   "source": [
    "fixed_args(*[\"blah\", \"di\"])"
   ]
  },
  {
   "cell_type": "code",
   "execution_count": 142,
   "metadata": {
    "collapsed": true
   },
   "outputs": [],
   "source": [
    "def splat_args(pos_1, pos_2, *args):\n",
    "    print(pos_1)\n",
    "    print(pos_2)\n",
    "     print(len(args), args)"
   ]
  },
  {
   "cell_type": "code",
   "execution_count": 150,
   "metadata": {
    "collapsed": false
   },
   "outputs": [
    {
     "name": "stdout",
     "output_type": "stream",
     "text": [
      "which\n",
      "what\n",
      "5 ('this', 'that', 'another', 'yet another', 'other')\n"
     ]
    }
   ],
   "source": [
    "my_list = [\"which\", \"what\", \"this\", \"that\", \"another\", \"yet another\", \"other\"]\n",
    "splat_args(*my_list)"
   ]
  },
  {
   "cell_type": "code",
   "execution_count": 157,
   "metadata": {
    "collapsed": false
   },
   "outputs": [
    {
     "name": "stdout",
     "output_type": "stream",
     "text": [
      "index: 0\titem: which\n",
      "index: 1\titem: what\n",
      "index: 2\titem: this\n",
      "index: 3\titem: that\n",
      "index: 4\titem: another\n",
      "index: 5\titem: yet another\n",
      "index: 6\titem: other\n"
     ]
    }
   ],
   "source": [
    "for index, item in enumerate(my_list):\n",
    "    print(\"index: {}\\titem: {}\".format(index, item))"
   ]
  },
  {
   "cell_type": "code",
   "execution_count": 166,
   "metadata": {
    "collapsed": false
   },
   "outputs": [
    {
     "name": "stdout",
     "output_type": "stream",
     "text": [
      "a_1 b_1 c_I\n",
      "a_2 b_2 c_II\n",
      "<class 'tuple'> ('a_1', 'b_1', 'c_I')\n",
      "<class 'tuple'> ('a_2', 'b_2', 'c_II')\n"
     ]
    }
   ],
   "source": [
    "list_a = ['a_1', 'a_2', 'a_3', 'a_4']\n",
    "list_b = ['b_1', 'b_2', 'b_3']\n",
    "list_c = ['c_I', 'c_II']\n",
    "\n",
    "for a, b, c in zip(list_a, list_b, list_c):\n",
    "    print(a, b, c)\n",
    "    \n",
    "for chunk in zip(list_a, list_b, list_c):\n",
    "    print(type(chunk), chunk)"
   ]
  },
  {
   "cell_type": "code",
   "execution_count": 170,
   "metadata": {
    "collapsed": false
   },
   "outputs": [
    {
     "name": "stdout",
     "output_type": "stream",
     "text": [
      "0 = a_1 b_1\n",
      "1 = a_2 b_2\n",
      "2 = a_3 b_3\n"
     ]
    }
   ],
   "source": [
    "for i, (a, b) in enumerate(zip(list_a, list_b)):\n",
    "    print(i, '=', a, b)"
   ]
  },
  {
   "cell_type": "code",
   "execution_count": 190,
   "metadata": {
    "collapsed": true
   },
   "outputs": [],
   "source": [
    "def count_e(s):\n",
    "    return s.lower().count(\"e\")\n"
   ]
  },
  {
   "cell_type": "code",
   "execution_count": 191,
   "metadata": {
    "collapsed": false
   },
   "outputs": [],
   "source": [
    "assert count_e(\"\") == 0\n",
    "assert count_e(\"e\") == 1\n",
    "assert count_e(\"f\") == 0\n",
    "assert count_e(\"ee\") == 2\n",
    "assert count_e(\"44\") == 0\n",
    "assert count_e(\"E\") == 1\n"
   ]
  },
  {
   "cell_type": "code",
   "execution_count": 218,
   "metadata": {
    "collapsed": true
   },
   "outputs": [],
   "source": [
    "def calculate(math_str):\n",
    "    return sum( [float(val) for val in math_str.split(\"+\")] )\n"
   ]
  },
  {
   "cell_type": "code",
   "execution_count": 219,
   "metadata": {
    "collapsed": false
   },
   "outputs": [],
   "source": [
    "#test that the function exists and takes correct parameters.\n",
    "calculate(\"5 + 6\")\n",
    "#test that it returns the right thing for the base case...\n",
    "assert isinstance(calculate(\"5 + 6\"), float)\n",
    "assert calculate(\"5 + 6\") == 11\n",
    "assert calculate(\"5 + 7\") == 12\n",
    "assert calculate(\"5 + 7 + 8.5\") == 20.5"
   ]
  },
  {
   "cell_type": "code",
   "execution_count": null,
   "metadata": {
    "collapsed": true
   },
   "outputs": [],
   "source": [
    "\n"
   ]
  },
  {
   "cell_type": "code",
   "execution_count": null,
   "metadata": {
    "collapsed": true
   },
   "outputs": [],
   "source": []
  }
 ],
 "metadata": {
  "kernelspec": {
   "display_name": "Python 3",
   "language": "python",
   "name": "python3"
  },
  "language_info": {
   "codemirror_mode": {
    "name": "ipython",
    "version": 3
   },
   "file_extension": ".py",
   "mimetype": "text/x-python",
   "name": "python",
   "nbconvert_exporter": "python",
   "pygments_lexer": "ipython3",
   "version": "3.5.2"
  }
 },
 "nbformat": 4,
 "nbformat_minor": 0
}
